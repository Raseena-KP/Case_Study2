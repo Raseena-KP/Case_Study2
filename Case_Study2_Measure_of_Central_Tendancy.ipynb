{
 "cells": [
  {
   "cell_type": "code",
   "execution_count": 13,
   "id": "b05196a0",
   "metadata": {},
   "outputs": [],
   "source": [
    "import pandas as pd\n",
    "import numpy as np\n",
    "import matplotlib.pyplot as plt\n",
    "import seaborn as sns\n",
    "import statistics"
   ]
  },
  {
   "cell_type": "code",
   "execution_count": 14,
   "id": "689beca7",
   "metadata": {},
   "outputs": [],
   "source": [
    "df=pd.read_csv(\"StudentsPerformance.csv\")"
   ]
  },
  {
   "cell_type": "code",
   "execution_count": 15,
   "id": "5e9a68fb",
   "metadata": {},
   "outputs": [
    {
     "data": {
      "text/html": [
       "<div>\n",
       "<style scoped>\n",
       "    .dataframe tbody tr th:only-of-type {\n",
       "        vertical-align: middle;\n",
       "    }\n",
       "\n",
       "    .dataframe tbody tr th {\n",
       "        vertical-align: top;\n",
       "    }\n",
       "\n",
       "    .dataframe thead th {\n",
       "        text-align: right;\n",
       "    }\n",
       "</style>\n",
       "<table border=\"1\" class=\"dataframe\">\n",
       "  <thead>\n",
       "    <tr style=\"text-align: right;\">\n",
       "      <th></th>\n",
       "      <th>gender</th>\n",
       "      <th>race/ethnicity</th>\n",
       "      <th>parental level of education</th>\n",
       "      <th>lunch</th>\n",
       "      <th>test preparation course</th>\n",
       "      <th>math score</th>\n",
       "      <th>reading score</th>\n",
       "      <th>writing score</th>\n",
       "    </tr>\n",
       "  </thead>\n",
       "  <tbody>\n",
       "    <tr>\n",
       "      <th>0</th>\n",
       "      <td>female</td>\n",
       "      <td>group C</td>\n",
       "      <td>some high school</td>\n",
       "      <td>free/reduced</td>\n",
       "      <td>none</td>\n",
       "      <td>0</td>\n",
       "      <td>17</td>\n",
       "      <td>10</td>\n",
       "    </tr>\n",
       "    <tr>\n",
       "      <th>1</th>\n",
       "      <td>female</td>\n",
       "      <td>group B</td>\n",
       "      <td>high school</td>\n",
       "      <td>free/reduced</td>\n",
       "      <td>none</td>\n",
       "      <td>8</td>\n",
       "      <td>24</td>\n",
       "      <td>23</td>\n",
       "    </tr>\n",
       "    <tr>\n",
       "      <th>2</th>\n",
       "      <td>female</td>\n",
       "      <td>group B</td>\n",
       "      <td>some high school</td>\n",
       "      <td>free/reduced</td>\n",
       "      <td>none</td>\n",
       "      <td>18</td>\n",
       "      <td>32</td>\n",
       "      <td>28</td>\n",
       "    </tr>\n",
       "    <tr>\n",
       "      <th>3</th>\n",
       "      <td>female</td>\n",
       "      <td>group B</td>\n",
       "      <td>some college</td>\n",
       "      <td>standard</td>\n",
       "      <td>none</td>\n",
       "      <td>11</td>\n",
       "      <td>38</td>\n",
       "      <td>32</td>\n",
       "    </tr>\n",
       "    <tr>\n",
       "      <th>4</th>\n",
       "      <td>female</td>\n",
       "      <td>group C</td>\n",
       "      <td>some college</td>\n",
       "      <td>free/reduced</td>\n",
       "      <td>none</td>\n",
       "      <td>22</td>\n",
       "      <td>39</td>\n",
       "      <td>33</td>\n",
       "    </tr>\n",
       "  </tbody>\n",
       "</table>\n",
       "</div>"
      ],
      "text/plain": [
       "   gender race/ethnicity parental level of education         lunch  \\\n",
       "0  female        group C            some high school  free/reduced   \n",
       "1  female        group B                 high school  free/reduced   \n",
       "2  female        group B            some high school  free/reduced   \n",
       "3  female        group B                some college      standard   \n",
       "4  female        group C                some college  free/reduced   \n",
       "\n",
       "  test preparation course  math score  reading score  writing score  \n",
       "0                    none           0             17             10  \n",
       "1                    none           8             24             23  \n",
       "2                    none          18             32             28  \n",
       "3                    none          11             38             32  \n",
       "4                    none          22             39             33  "
      ]
     },
     "execution_count": 15,
     "metadata": {},
     "output_type": "execute_result"
    }
   ],
   "source": [
    "df.head()"
   ]
  },
  {
   "cell_type": "code",
   "execution_count": 16,
   "id": "c0b205ee",
   "metadata": {},
   "outputs": [
    {
     "name": "stdout",
     "output_type": "stream",
     "text": [
      "<class 'pandas.core.frame.DataFrame'>\n",
      "RangeIndex: 1000 entries, 0 to 999\n",
      "Data columns (total 8 columns):\n",
      " #   Column                       Non-Null Count  Dtype \n",
      "---  ------                       --------------  ----- \n",
      " 0   gender                       1000 non-null   object\n",
      " 1   race/ethnicity               1000 non-null   object\n",
      " 2   parental level of education  1000 non-null   object\n",
      " 3   lunch                        1000 non-null   object\n",
      " 4   test preparation course      1000 non-null   object\n",
      " 5   math score                   1000 non-null   int64 \n",
      " 6   reading score                1000 non-null   int64 \n",
      " 7   writing score                1000 non-null   int64 \n",
      "dtypes: int64(3), object(5)\n",
      "memory usage: 62.6+ KB\n"
     ]
    }
   ],
   "source": [
    "df.info()"
   ]
  },
  {
   "cell_type": "code",
   "execution_count": 17,
   "id": "68c8697e",
   "metadata": {},
   "outputs": [
    {
     "data": {
      "text/plain": [
       "Index(['gender', 'race/ethnicity', 'parental_level_of_education', 'lunch',\n",
       "       'test_preparation_course', 'math_score', 'reading_score',\n",
       "       'writing_score'],\n",
       "      dtype='object')"
      ]
     },
     "execution_count": 17,
     "metadata": {},
     "output_type": "execute_result"
    }
   ],
   "source": [
    "#Removing space in column names with \"_\"\n",
    "column_names=df.columns\n",
    "for colName in column_names:\n",
    "    newName=colName.replace(\" \",\"_\")\n",
    "    df.rename(columns={colName:newName},inplace=True)\n",
    "df.columns"
   ]
  },
  {
   "cell_type": "markdown",
   "id": "f6f88222",
   "metadata": {},
   "source": [
    "# 1. Find out how many males and females participated in the test."
   ]
  },
  {
   "cell_type": "code",
   "execution_count": 18,
   "id": "13099684",
   "metadata": {},
   "outputs": [
    {
     "name": "stdout",
     "output_type": "stream",
     "text": [
      "No. of males and females participated in the test\n"
     ]
    },
    {
     "data": {
      "text/plain": [
       "male      482\n",
       "female    518\n",
       "Name: gender, dtype: int64"
      ]
     },
     "execution_count": 18,
     "metadata": {},
     "output_type": "execute_result"
    }
   ],
   "source": [
    "print(\"No. of males and females participated in the test\")\n",
    "df[\"gender\"].value_counts().sort_values()"
   ]
  },
  {
   "cell_type": "markdown",
   "id": "be5779fd",
   "metadata": {},
   "source": [
    "# 2. What do you think about the students' parental level of education?"
   ]
  },
  {
   "cell_type": "code",
   "execution_count": 21,
   "id": "c0fa0b9c",
   "metadata": {},
   "outputs": [
    {
     "name": "stdout",
     "output_type": "stream",
     "text": [
      "Standard Deviation: 65.65871356238003\n",
      "Median: 187.5\n"
     ]
    },
    {
     "data": {
      "image/png": "[encoded data removed]",
      "text/plain": [
       "<Figure size 432x288 with 1 Axes>"
      ]
     },
     "metadata": {
      "needs_background": "light"
     },
     "output_type": "display_data"
    }
   ],
   "source": [
    "parentLevel=df[\"parental_level_of_education\"].value_counts()\n",
    "name=parentLevel.index\n",
    "parent_df=pd.DataFrame(parentLevel).reset_index()\n",
    "parent_df.columns=[\"level_of_education\",\"Count\"]\n",
    "f=statistics.median(parent_df[\"Count\"])\n",
    "fig, ax = plt.subplots()\n",
    "ax.bar(parent_df[\"level_of_education\"],height=parent_df[\"Count\"])\n",
    "ax.axhline(parent_df[\"Count\"].median(), color='blue', linewidth=2)\n",
    "plt.xticks(rotation=45)\n",
    "plt.ylabel(\"Count of Parents\")\n",
    "plt.title(\"Parental level of education\")\n",
    "print(\"Standard Deviation:\",str(statistics.stdev(parent_df[\"Count\"])))\n",
    "print(\"Median:\",str(parent_df[\"Count\"].median()))"
   ]
  },
  {
   "cell_type": "raw",
   "id": "e1faef1e",
   "metadata": {},
   "source": [
    "Insight:\n",
    "    1. we can see a great variability in level of education (high standard deviation)from the mean\n",
    "    2. above avg, parents have degree level education"
   ]
  },
  {
   "cell_type": "markdown",
   "id": "3889cb6b",
   "metadata": {},
   "source": [
    "# 3. Who scores the most on average for math, reading and writing based on\n",
    "● Gender\n",
    "● Test preparation course"
   ]
  },
  {
   "cell_type": "code",
   "execution_count": 30,
   "id": "07225a31",
   "metadata": {},
   "outputs": [
    {
     "name": "stderr",
     "output_type": "stream",
     "text": [
      "C:\\Users\\raseena.ppallintakat\\AppData\\Local\\Temp\\ipykernel_8308\\4248089739.py:1: FutureWarning: Indexing with multiple keys (implicitly converted to a tuple of keys) will be deprecated, use a list instead.\n",
      "  df_avg_score=df.groupby(['gender', 'test_preparation_course'])['math_score', 'reading_score', 'writing_score'].mean()\n"
     ]
    },
    {
     "data": {
      "text/html": [
       "<div>\n",
       "<style scoped>\n",
       "    .dataframe tbody tr th:only-of-type {\n",
       "        vertical-align: middle;\n",
       "    }\n",
       "\n",
       "    .dataframe tbody tr th {\n",
       "        vertical-align: top;\n",
       "    }\n",
       "\n",
       "    .dataframe thead th {\n",
       "        text-align: right;\n",
       "    }\n",
       "</style>\n",
       "<table border=\"1\" class=\"dataframe\">\n",
       "  <thead>\n",
       "    <tr style=\"text-align: right;\">\n",
       "      <th></th>\n",
       "      <th></th>\n",
       "      <th>math_score</th>\n",
       "      <th>reading_score</th>\n",
       "      <th>writing_score</th>\n",
       "      <th>avgCol</th>\n",
       "    </tr>\n",
       "    <tr>\n",
       "      <th>gender</th>\n",
       "      <th>test_preparation_course</th>\n",
       "      <th></th>\n",
       "      <th></th>\n",
       "      <th></th>\n",
       "      <th></th>\n",
       "    </tr>\n",
       "  </thead>\n",
       "  <tbody>\n",
       "    <tr>\n",
       "      <th rowspan=\"2\" valign=\"top\">female</th>\n",
       "      <th>completed</th>\n",
       "      <td>67.108696</td>\n",
       "      <td>77.375000</td>\n",
       "      <td>78.793478</td>\n",
       "      <td>74.425725</td>\n",
       "    </tr>\n",
       "    <tr>\n",
       "      <th>none</th>\n",
       "      <td>61.320359</td>\n",
       "      <td>69.955090</td>\n",
       "      <td>68.982036</td>\n",
       "      <td>66.752495</td>\n",
       "    </tr>\n",
       "    <tr>\n",
       "      <th rowspan=\"2\" valign=\"top\">male</th>\n",
       "      <th>completed</th>\n",
       "      <td>72.988506</td>\n",
       "      <td>70.793103</td>\n",
       "      <td>70.339080</td>\n",
       "      <td>71.373563</td>\n",
       "    </tr>\n",
       "    <tr>\n",
       "      <th>none</th>\n",
       "      <td>66.467532</td>\n",
       "      <td>62.581169</td>\n",
       "      <td>59.551948</td>\n",
       "      <td>62.866883</td>\n",
       "    </tr>\n",
       "  </tbody>\n",
       "</table>\n",
       "</div>"
      ],
      "text/plain": [
       "                                math_score  reading_score  writing_score  \\\n",
       "gender test_preparation_course                                             \n",
       "female completed                 67.108696      77.375000      78.793478   \n",
       "       none                      61.320359      69.955090      68.982036   \n",
       "male   completed                 72.988506      70.793103      70.339080   \n",
       "       none                      66.467532      62.581169      59.551948   \n",
       "\n",
       "                                   avgCol  \n",
       "gender test_preparation_course             \n",
       "female completed                74.425725  \n",
       "       none                     66.752495  \n",
       "male   completed                71.373563  \n",
       "       none                     62.866883  "
      ]
     },
     "execution_count": 30,
     "metadata": {},
     "output_type": "execute_result"
    }
   ],
   "source": [
    "df_avg_score=df.groupby(['gender', 'test_preparation_course'])['math_score', 'reading_score', 'writing_score'].mean()\n",
    "df_avg_score['avgCol'] = (df_avg_score['math_score'] + df_avg_score['reading_score']+df_avg_score['writing_score'] )/3\n",
    "df_avg_score"
   ]
  },
  {
   "cell_type": "markdown",
   "id": "f2f06dbd",
   "metadata": {},
   "source": [
    "Note: Female scores the Most on average for math, reading and writing "
   ]
  },
  {
   "cell_type": "markdown",
   "id": "dd354ad3",
   "metadata": {},
   "source": [
    "# 4. What do you think about the scoring variation for math, reading and writing\n",
    "based on\n",
    "● Gender\n",
    "● Test preparation course"
   ]
  },
  {
   "cell_type": "code",
   "execution_count": 32,
   "id": "f731db77",
   "metadata": {},
   "outputs": [
    {
     "name": "stderr",
     "output_type": "stream",
     "text": [
      "C:\\Users\\raseena.ppallintakat\\AppData\\Local\\Temp\\ipykernel_8308\\2441698238.py:1: FutureWarning: Indexing with multiple keys (implicitly converted to a tuple of keys) will be deprecated, use a list instead.\n",
      "  df_avg_score=df.groupby(['gender', 'test_preparation_course'])['math_score', 'reading_score', 'writing_score'].std()/df.groupby(['gender', 'test_preparation_course'])['math_score', 'reading_score', 'writing_score'].mean()\n",
      "C:\\Users\\raseena.ppallintakat\\AppData\\Local\\Temp\\ipykernel_8308\\2441698238.py:1: FutureWarning: Indexing with multiple keys (implicitly converted to a tuple of keys) will be deprecated, use a list instead.\n",
      "  df_avg_score=df.groupby(['gender', 'test_preparation_course'])['math_score', 'reading_score', 'writing_score'].std()/df.groupby(['gender', 'test_preparation_course'])['math_score', 'reading_score', 'writing_score'].mean()\n"
     ]
    },
    {
     "data": {
      "text/html": [
       "<div>\n",
       "<style scoped>\n",
       "    .dataframe tbody tr th:only-of-type {\n",
       "        vertical-align: middle;\n",
       "    }\n",
       "\n",
       "    .dataframe tbody tr th {\n",
       "        vertical-align: top;\n",
       "    }\n",
       "\n",
       "    .dataframe thead th {\n",
       "        text-align: right;\n",
       "    }\n",
       "</style>\n",
       "<table border=\"1\" class=\"dataframe\">\n",
       "  <thead>\n",
       "    <tr style=\"text-align: right;\">\n",
       "      <th></th>\n",
       "      <th></th>\n",
       "      <th>math_score</th>\n",
       "      <th>reading_score</th>\n",
       "      <th>writing_score</th>\n",
       "    </tr>\n",
       "    <tr>\n",
       "      <th>gender</th>\n",
       "      <th>test_preparation_course</th>\n",
       "      <th></th>\n",
       "      <th></th>\n",
       "      <th></th>\n",
       "    </tr>\n",
       "  </thead>\n",
       "  <tbody>\n",
       "    <tr>\n",
       "      <th rowspan=\"2\" valign=\"top\">female</th>\n",
       "      <th>completed</th>\n",
       "      <td>0.214998</td>\n",
       "      <td>0.164077</td>\n",
       "      <td>0.155353</td>\n",
       "    </tr>\n",
       "    <tr>\n",
       "      <th>none</th>\n",
       "      <td>0.269253</td>\n",
       "      <td>0.209234</td>\n",
       "      <td>0.217687</td>\n",
       "    </tr>\n",
       "    <tr>\n",
       "      <th rowspan=\"2\" valign=\"top\">male</th>\n",
       "      <th>completed</th>\n",
       "      <td>0.192348</td>\n",
       "      <td>0.192285</td>\n",
       "      <td>0.183225</td>\n",
       "    </tr>\n",
       "    <tr>\n",
       "      <th>none</th>\n",
       "      <td>0.215680</td>\n",
       "      <td>0.217249</td>\n",
       "      <td>0.226160</td>\n",
       "    </tr>\n",
       "  </tbody>\n",
       "</table>\n",
       "</div>"
      ],
      "text/plain": [
       "                                math_score  reading_score  writing_score\n",
       "gender test_preparation_course                                          \n",
       "female completed                  0.214998       0.164077       0.155353\n",
       "       none                       0.269253       0.209234       0.217687\n",
       "male   completed                  0.192348       0.192285       0.183225\n",
       "       none                       0.215680       0.217249       0.226160"
      ]
     },
     "execution_count": 32,
     "metadata": {},
     "output_type": "execute_result"
    }
   ],
   "source": [
    "df_avg_score=df.groupby(['gender', 'test_preparation_course'])['math_score', 'reading_score', 'writing_score'].std()/df.groupby(['gender', 'test_preparation_course'])['math_score', 'reading_score', 'writing_score'].mean()\n",
    "df_avg_score"
   ]
  },
  {
   "cell_type": "markdown",
   "id": "09bdeb64",
   "metadata": {},
   "source": [
    "Remarks:\n",
    "Considering the Coefficient of variation, we can conclude that\n",
    "    1. spread of data values is low relative to the mean\n",
    "    2. For Math score,Male who completed the test course have less standard deviation from the average compared to females \n",
    "    3. For Reading & Writing score, Females who has completed the course have less standard deviation from the average\n",
    "    4. Those who completed the test preparation course were able to score better"
   ]
  },
  {
   "cell_type": "markdown",
   "id": "cf8a9d6f",
   "metadata": {},
   "source": [
    "\n",
    "# The management needs your help to give bonus points to the top 25% of\n",
    "students based on their maths score, so how will you help the management\n",
    "    to achieve this."
   ]
  },
  {
   "cell_type": "code",
   "execution_count": 33,
   "id": "f5a9d0f1",
   "metadata": {},
   "outputs": [
    {
     "name": "stdout",
     "output_type": "stream",
     "text": [
      "top 25% of students based on their maths score\n"
     ]
    },
    {
     "data": {
      "text/html": [
       "<div>\n",
       "<style scoped>\n",
       "    .dataframe tbody tr th:only-of-type {\n",
       "        vertical-align: middle;\n",
       "    }\n",
       "\n",
       "    .dataframe tbody tr th {\n",
       "        vertical-align: top;\n",
       "    }\n",
       "\n",
       "    .dataframe thead th {\n",
       "        text-align: right;\n",
       "    }\n",
       "</style>\n",
       "<table border=\"1\" class=\"dataframe\">\n",
       "  <thead>\n",
       "    <tr style=\"text-align: right;\">\n",
       "      <th></th>\n",
       "      <th>gender</th>\n",
       "      <th>race/ethnicity</th>\n",
       "      <th>math_score</th>\n",
       "    </tr>\n",
       "  </thead>\n",
       "  <tbody>\n",
       "    <tr>\n",
       "      <th>999</th>\n",
       "      <td>male</td>\n",
       "      <td>group E</td>\n",
       "      <td>100</td>\n",
       "    </tr>\n",
       "    <tr>\n",
       "      <th>996</th>\n",
       "      <td>male</td>\n",
       "      <td>group A</td>\n",
       "      <td>100</td>\n",
       "    </tr>\n",
       "    <tr>\n",
       "      <th>515</th>\n",
       "      <td>female</td>\n",
       "      <td>group E</td>\n",
       "      <td>100</td>\n",
       "    </tr>\n",
       "    <tr>\n",
       "      <th>517</th>\n",
       "      <td>female</td>\n",
       "      <td>group E</td>\n",
       "      <td>100</td>\n",
       "    </tr>\n",
       "    <tr>\n",
       "      <th>516</th>\n",
       "      <td>female</td>\n",
       "      <td>group E</td>\n",
       "      <td>100</td>\n",
       "    </tr>\n",
       "    <tr>\n",
       "      <th>997</th>\n",
       "      <td>male</td>\n",
       "      <td>group D</td>\n",
       "      <td>100</td>\n",
       "    </tr>\n",
       "    <tr>\n",
       "      <th>998</th>\n",
       "      <td>male</td>\n",
       "      <td>group E</td>\n",
       "      <td>100</td>\n",
       "    </tr>\n",
       "    <tr>\n",
       "      <th>995</th>\n",
       "      <td>male</td>\n",
       "      <td>group E</td>\n",
       "      <td>99</td>\n",
       "    </tr>\n",
       "    <tr>\n",
       "      <th>513</th>\n",
       "      <td>female</td>\n",
       "      <td>group E</td>\n",
       "      <td>99</td>\n",
       "    </tr>\n",
       "    <tr>\n",
       "      <th>514</th>\n",
       "      <td>female</td>\n",
       "      <td>group E</td>\n",
       "      <td>99</td>\n",
       "    </tr>\n",
       "    <tr>\n",
       "      <th>994</th>\n",
       "      <td>male</td>\n",
       "      <td>group C</td>\n",
       "      <td>98</td>\n",
       "    </tr>\n",
       "    <tr>\n",
       "      <th>993</th>\n",
       "      <td>male</td>\n",
       "      <td>group C</td>\n",
       "      <td>98</td>\n",
       "    </tr>\n",
       "    <tr>\n",
       "      <th>512</th>\n",
       "      <td>female</td>\n",
       "      <td>group D</td>\n",
       "      <td>98</td>\n",
       "    </tr>\n",
       "    <tr>\n",
       "      <th>992</th>\n",
       "      <td>male</td>\n",
       "      <td>group E</td>\n",
       "      <td>97</td>\n",
       "    </tr>\n",
       "    <tr>\n",
       "      <th>991</th>\n",
       "      <td>male</td>\n",
       "      <td>group E</td>\n",
       "      <td>97</td>\n",
       "    </tr>\n",
       "    <tr>\n",
       "      <th>989</th>\n",
       "      <td>male</td>\n",
       "      <td>group A</td>\n",
       "      <td>97</td>\n",
       "    </tr>\n",
       "    <tr>\n",
       "      <th>510</th>\n",
       "      <td>female</td>\n",
       "      <td>group B</td>\n",
       "      <td>97</td>\n",
       "    </tr>\n",
       "    <tr>\n",
       "      <th>511</th>\n",
       "      <td>female</td>\n",
       "      <td>group D</td>\n",
       "      <td>97</td>\n",
       "    </tr>\n",
       "    <tr>\n",
       "      <th>990</th>\n",
       "      <td>male</td>\n",
       "      <td>group C</td>\n",
       "      <td>97</td>\n",
       "    </tr>\n",
       "    <tr>\n",
       "      <th>509</th>\n",
       "      <td>female</td>\n",
       "      <td>group C</td>\n",
       "      <td>96</td>\n",
       "    </tr>\n",
       "    <tr>\n",
       "      <th>508</th>\n",
       "      <td>female</td>\n",
       "      <td>group C</td>\n",
       "      <td>96</td>\n",
       "    </tr>\n",
       "    <tr>\n",
       "      <th>988</th>\n",
       "      <td>male</td>\n",
       "      <td>group C</td>\n",
       "      <td>96</td>\n",
       "    </tr>\n",
       "    <tr>\n",
       "      <th>507</th>\n",
       "      <td>female</td>\n",
       "      <td>group E</td>\n",
       "      <td>95</td>\n",
       "    </tr>\n",
       "    <tr>\n",
       "      <th>987</th>\n",
       "      <td>male</td>\n",
       "      <td>group D</td>\n",
       "      <td>95</td>\n",
       "    </tr>\n",
       "    <tr>\n",
       "      <th>505</th>\n",
       "      <td>female</td>\n",
       "      <td>group B</td>\n",
       "      <td>94</td>\n",
       "    </tr>\n",
       "  </tbody>\n",
       "</table>\n",
       "</div>"
      ],
      "text/plain": [
       "     gender race/ethnicity  math_score\n",
       "999    male        group E         100\n",
       "996    male        group A         100\n",
       "515  female        group E         100\n",
       "517  female        group E         100\n",
       "516  female        group E         100\n",
       "997    male        group D         100\n",
       "998    male        group E         100\n",
       "995    male        group E          99\n",
       "513  female        group E          99\n",
       "514  female        group E          99\n",
       "994    male        group C          98\n",
       "993    male        group C          98\n",
       "512  female        group D          98\n",
       "992    male        group E          97\n",
       "991    male        group E          97\n",
       "989    male        group A          97\n",
       "510  female        group B          97\n",
       "511  female        group D          97\n",
       "990    male        group C          97\n",
       "509  female        group C          96\n",
       "508  female        group C          96\n",
       "988    male        group C          96\n",
       "507  female        group E          95\n",
       "987    male        group D          95\n",
       "505  female        group B          94"
      ]
     },
     "execution_count": 33,
     "metadata": {},
     "output_type": "execute_result"
    }
   ],
   "source": [
    "df.index\n",
    "count_Top=int((25*1000)/100)\n",
    "df_bonus=df[[\"gender\",\"race/ethnicity\",\"math_score\"]]\n",
    "sorted_df=df_bonus.sort_values(by=\"math_score\",ascending=False)\n",
    "print(\"top 25% of students based on their maths score\")\n",
    "sorted_df[0:25]"
   ]
  },
  {
   "cell_type": "code",
   "execution_count": null,
   "id": "90681950",
   "metadata": {},
   "outputs": [],
   "source": []
  },
  {
   "cell_type": "markdown",
   "id": "25112a94",
   "metadata": {},
   "source": []
  },
  {
   "cell_type": "markdown",
   "id": "d89b1c63",
   "metadata": {},
   "source": []
  },
  {
   "cell_type": "code",
   "execution_count": null,
   "id": "330a0ee7",
   "metadata": {},
   "outputs": [],
   "source": []
  },
  {
   "cell_type": "code",
   "execution_count": null,
   "id": "13c49c2c",
   "metadata": {},
   "outputs": [],
   "source": []
  }
 ],
 "metadata": {
  "kernelspec": {
   "display_name": "Python 3 (ipykernel)",
   "language": "python",
   "name": "python3"
  },
  "language_info": {
   "codemirror_mode": {
    "name": "ipython",
    "version": 3
   },
   "file_extension": ".py",
   "mimetype": "text/x-python",
   "name": "python",
   "nbconvert_exporter": "python",
   "pygments_lexer": "ipython3",
   "version": "3.9.12"
  }
 },
 "nbformat": 4,
 "nbformat_minor": 5
}
